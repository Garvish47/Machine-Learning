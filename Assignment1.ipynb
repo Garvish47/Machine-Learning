{
  "nbformat": 4,
  "nbformat_minor": 0,
  "metadata": {
    "colab": {
      "provenance": [],
      "authorship_tag": "ABX9TyM+ZCG7u8sjQsxOxRkqfeZW",
      "include_colab_link": true
    },
    "kernelspec": {
      "name": "python3",
      "display_name": "Python 3"
    },
    "language_info": {
      "name": "python"
    }
  },
  "cells": [
    {
      "cell_type": "markdown",
      "metadata": {
        "id": "view-in-github",
        "colab_type": "text"
      },
      "source": [
        "<a href=\"https://colab.research.google.com/github/Garvish47/Machine-Learning/blob/main/Assignment1.ipynb\" target=\"_parent\"><img src=\"https://colab.research.google.com/assets/colab-badge.svg\" alt=\"Open In Colab\"/></a>"
      ]
    },
    {
      "cell_type": "code",
      "execution_count": 1,
      "metadata": {
        "id": "elkWF6gnSUat"
      },
      "outputs": [],
      "source": [
        "import numpy as np"
      ]
    },
    {
      "cell_type": "markdown",
      "source": [
        "Q1"
      ],
      "metadata": {
        "id": "kKXPn5G_IxxU"
      }
    },
    {
      "cell_type": "code",
      "source": [
        "#a\n",
        "a = np.array([1, 2, 3, 4, 5])"
      ],
      "metadata": {
        "id": "qNw2x288SeYb"
      },
      "execution_count": 3,
      "outputs": []
    },
    {
      "cell_type": "code",
      "source": [
        "print(np.flip(a))\n",
        "print(a[::-1])"
      ],
      "metadata": {
        "colab": {
          "base_uri": "https://localhost:8080/"
        },
        "id": "O0h4piTrSpAR",
        "outputId": "ea8782d6-ab00-4815-bfe3-175274778561"
      },
      "execution_count": null,
      "outputs": [
        {
          "output_type": "stream",
          "name": "stdout",
          "text": [
            "[5 4 3 2 1]\n",
            "[5 4 3 2 1]\n"
          ]
        }
      ]
    },
    {
      "cell_type": "code",
      "source": [
        "#b\n",
        "array1 = np.array([[1, 2, 3], [2, 4, 5], [1, 2, 3]])\n",
        "print(array1)\n",
        "\n",
        "print(array1.flatten())\n",
        "\n",
        "print(np.ravel(array1))"
      ],
      "metadata": {
        "colab": {
          "base_uri": "https://localhost:8080/"
        },
        "id": "aCn3dPkGTQi9",
        "outputId": "99cc8d90-802c-4d79-b245-eae3f96ec269"
      },
      "execution_count": null,
      "outputs": [
        {
          "output_type": "stream",
          "name": "stdout",
          "text": [
            "[[1 2 3]\n",
            " [2 4 5]\n",
            " [1 2 3]]\n",
            "[1 2 3 2 4 5 1 2 3]\n",
            "[1 2 3 2 4 5 1 2 3]\n"
          ]
        }
      ]
    },
    {
      "cell_type": "code",
      "source": [
        "#c\n",
        "arr1 = np.array([[1, 2], [3, 4]])\n",
        "arr2 = np.array([[1, 2], [3, 4]])\n",
        "\n",
        "print(arr1 == arr2)"
      ],
      "metadata": {
        "colab": {
          "base_uri": "https://localhost:8080/"
        },
        "id": "AsHll4mOUYLR",
        "outputId": "6ae7e9a4-e3b8-4236-b450-1328bc8b7b94"
      },
      "execution_count": null,
      "outputs": [
        {
          "output_type": "stream",
          "name": "stdout",
          "text": [
            "[[ True  True]\n",
            " [ True  True]]\n"
          ]
        }
      ]
    },
    {
      "cell_type": "code",
      "source": [
        "#d\n",
        "x = np.array([1,2,3,4,5,1,2,1,1,1])\n",
        "elements, counts = np.unique(x, return_counts = True)\n",
        "print(elements, counts)"
      ],
      "metadata": {
        "colab": {
          "base_uri": "https://localhost:8080/"
        },
        "id": "Hyy7IX8yUphx",
        "outputId": "6cbe8a89-5a92-44dc-d91d-b9112a60bcef"
      },
      "execution_count": null,
      "outputs": [
        {
          "output_type": "stream",
          "name": "stdout",
          "text": [
            "[1 2 3 4 5] [5 2 1 1 1]\n"
          ]
        }
      ]
    },
    {
      "cell_type": "code",
      "source": [
        "y = np.array([1, 1, 1, 2, 3, 4, 2, 4, 3, 3])\n",
        "elements, counts = np.unique(y, return_counts = True)\n",
        "print(elements, counts)"
      ],
      "metadata": {
        "colab": {
          "base_uri": "https://localhost:8080/"
        },
        "id": "FtYlnrKhVzex",
        "outputId": "333bb706-6def-40a2-9296-59105dc22b2b"
      },
      "execution_count": null,
      "outputs": [
        {
          "output_type": "stream",
          "name": "stdout",
          "text": [
            "[1 2 3 4] [3 2 3 2]\n"
          ]
        }
      ]
    },
    {
      "cell_type": "code",
      "source": [
        "#e\n",
        "gfg = np.matrix('[4, 1, 9; 12, 3, 1; 4, 5, 6]')\n",
        "sum = gfg.sum()\n",
        "print(sum)\n",
        "print(\"\\n\")\n",
        "\n",
        "row_wise_sum = gfg.sum(axis = 1)\n",
        "print(row_wise_sum)\n",
        "print(\"\\n\")\n",
        "\n",
        "column_wise_sum = gfg.sum(axis = 0)\n",
        "print(column_wise_sum)"
      ],
      "metadata": {
        "colab": {
          "base_uri": "https://localhost:8080/"
        },
        "id": "EAvUJ83vWbo9",
        "outputId": "50fd6823-82aa-4268-fb8e-16dfd7dc9421"
      },
      "execution_count": 5,
      "outputs": [
        {
          "output_type": "stream",
          "name": "stdout",
          "text": [
            "45\n",
            "\n",
            "\n",
            "[[14]\n",
            " [16]\n",
            " [15]]\n",
            "\n",
            "\n",
            "[[20  9 16]]\n"
          ]
        }
      ]
    },
    {
      "cell_type": "code",
      "source": [
        "#f\n",
        "n_array = np.array([[55, 25, 15],[30, 44, 2],[11, 45, 77]])\n",
        "np.sum(np.diag(n_array))"
      ],
      "metadata": {
        "id": "KHlZB1MHW0wk",
        "colab": {
          "base_uri": "https://localhost:8080/"
        },
        "outputId": "99298d8d-1e80-4567-fda3-cd32db58054f"
      },
      "execution_count": 15,
      "outputs": [
        {
          "output_type": "execute_result",
          "data": {
            "text/plain": [
              "np.int64(176)"
            ]
          },
          "metadata": {},
          "execution_count": 15
        }
      ]
    },
    {
      "cell_type": "code",
      "source": [
        "eigenvalues, eigenvectors = np.linalg.eig(n_array)\n",
        "print(eigenvalues)\n",
        "print(eigenvectors)"
      ],
      "metadata": {
        "colab": {
          "base_uri": "https://localhost:8080/"
        },
        "id": "PPJtaB5waMGG",
        "outputId": "883787bd-4600-4fa8-89c7-95aa6b66f6c8"
      },
      "execution_count": 17,
      "outputs": [
        {
          "output_type": "stream",
          "name": "stdout",
          "text": [
            "[98.16835147 28.097044   49.73460452]\n",
            "[[ 0.4574917   0.34637121 -0.15017693]\n",
            " [ 0.28447814 -0.72784061 -0.4852124 ]\n",
            " [ 0.84248058  0.59184038  0.8614034 ]]\n"
          ]
        }
      ]
    },
    {
      "cell_type": "code",
      "source": [
        "np.linalg.inv(n_array)"
      ],
      "metadata": {
        "colab": {
          "base_uri": "https://localhost:8080/"
        },
        "id": "AszOXs7UapcO",
        "outputId": "76dbd070-c9f8-49c1-a7e3-00fcefeca172"
      },
      "execution_count": 27,
      "outputs": [
        {
          "output_type": "execute_result",
          "data": {
            "text/plain": [
              "array([[ 0.02404141, -0.00911212, -0.00444671],\n",
              "       [-0.01667882,  0.02966905,  0.0024785 ],\n",
              "       [ 0.00631287, -0.01603732,  0.01217379]])"
            ]
          },
          "metadata": {},
          "execution_count": 27
        }
      ]
    },
    {
      "cell_type": "code",
      "source": [
        "np.linalg.det(n_array)"
      ],
      "metadata": {
        "colab": {
          "base_uri": "https://localhost:8080/"
        },
        "id": "Pn9w1ztybF4Q",
        "outputId": "cc49a5ef-f02d-4052-b1a2-af2f59a3eebb"
      },
      "execution_count": 28,
      "outputs": [
        {
          "output_type": "execute_result",
          "data": {
            "text/plain": [
              "np.float64(137180.0000000001)"
            ]
          },
          "metadata": {},
          "execution_count": 28
        }
      ]
    },
    {
      "cell_type": "code",
      "source": [
        "#g\n",
        "p = np.array([[1, 2], [2, 3]])\n",
        "q = np.array([[4, 5], [6, 7]])\n",
        "np.dot(p, q)"
      ],
      "metadata": {
        "colab": {
          "base_uri": "https://localhost:8080/"
        },
        "id": "miMbT-VmbogV",
        "outputId": "ea622f6a-64b2-431e-8f99-89dd5f4fe49c"
      },
      "execution_count": 2,
      "outputs": [
        {
          "output_type": "execute_result",
          "data": {
            "text/plain": [
              "array([[16, 19],\n",
              "       [26, 31]])"
            ]
          },
          "metadata": {},
          "execution_count": 2
        }
      ]
    },
    {
      "cell_type": "code",
      "source": [
        "np.cov(p, q, rowvar = False)"
      ],
      "metadata": {
        "colab": {
          "base_uri": "https://localhost:8080/"
        },
        "id": "9EaSbVVHc2F-",
        "outputId": "0fe4d5c2-d734-4398-abfd-da698a69be9a"
      },
      "execution_count": 3,
      "outputs": [
        {
          "output_type": "execute_result",
          "data": {
            "text/plain": [
              "array([[0.5, 0.5, 1. , 1. ],\n",
              "       [0.5, 0.5, 1. , 1. ],\n",
              "       [1. , 1. , 2. , 2. ],\n",
              "       [1. , 1. , 2. , 2. ]])"
            ]
          },
          "metadata": {},
          "execution_count": 3
        }
      ]
    },
    {
      "cell_type": "code",
      "source": [
        "#h\n",
        "x = np.array([[2, 3, 4],\n",
        "              [3, 2, 9]])\n",
        "\n",
        "y = np.array([[1, 5, 0],\n",
        "              [5, 10, 3]])"
      ],
      "metadata": {
        "id": "ipql3FKrY7EZ"
      },
      "execution_count": 4,
      "outputs": []
    },
    {
      "cell_type": "code",
      "source": [],
      "metadata": {
        "id": "cRJ4TuqrJsRQ"
      },
      "execution_count": null,
      "outputs": []
    },
    {
      "cell_type": "markdown",
      "source": [
        "Q2-"
      ],
      "metadata": {
        "id": "UF0DcnGEoe0T"
      }
    },
    {
      "cell_type": "code",
      "source": [
        "#a\n",
        "# Given array\n",
        "array = np.array([[1, -2, 3], [-4, 5, -6]])\n",
        "\n",
        "# 1. Element-wise absolute value\n",
        "abs_array = np.abs(array)\n",
        "\n",
        "# 2. Percentiles\n",
        "flattened_array = array.flatten()\n",
        "percentiles_flattened = np.percentile(flattened_array, [25, 50, 75])\n",
        "percentiles_columns = np.percentile(array, [25, 50, 75], axis=0)\n",
        "percentiles_rows = np.percentile(array, [25, 50, 75], axis=1)\n",
        "\n",
        "# 3. Mean, Median, and Standard Deviation\n",
        "mean_flattened = np.mean(flattened_array)\n",
        "median_flattened = np.median(flattened_array)\n",
        "std_flattened = np.std(flattened_array)\n",
        "\n",
        "mean_columns = np.mean(array, axis=0)\n",
        "median_columns = np.median(array, axis=0)\n",
        "std_columns = np.std(array, axis=0)\n",
        "\n",
        "mean_rows = np.mean(array, axis=1)\n",
        "median_rows = np.median(array, axis=1)\n",
        "std_rows = np.std(array, axis=1)\n",
        "\n",
        "# Output the results\n",
        "print(\"Absolute Value of the Array:\")\n",
        "print(abs_array)\n",
        "\n",
        "print(\"\\nPercentiles (Flattened Array):\")\n",
        "print(percentiles_flattened)\n",
        "\n",
        "print(\"\\nPercentiles (By Column):\")\n",
        "print(percentiles_columns)\n",
        "\n",
        "print(\"\\nPercentiles (By Row):\")\n",
        "print(percentiles_rows)\n",
        "\n",
        "print(\"\\nMean, Median, and Standard Deviation (Flattened Array):\")\n",
        "print(f\"Mean: {mean_flattened}, Median: {median_flattened}, Std: {std_flattened}\")\n",
        "\n",
        "print(\"\\nMean, Median, and Standard Deviation (By Column):\")\n",
        "print(f\"Mean: {mean_columns}, Median: {median_columns}, Std: {std_columns}\")\n",
        "\n",
        "print(\"\\nMean, Median, and Standard Deviation (By Row):\")\n",
        "print(f\"Mean: {mean_rows}, Median: {median_rows}, Std: {std_rows}\")"
      ],
      "metadata": {
        "colab": {
          "base_uri": "https://localhost:8080/"
        },
        "id": "4rXdzThmohmU",
        "outputId": "e1c7a740-6318-496a-92ad-c8b3e1391a2e"
      },
      "execution_count": 2,
      "outputs": [
        {
          "output_type": "stream",
          "name": "stdout",
          "text": [
            "Absolute Value of the Array:\n",
            "[[1 2 3]\n",
            " [4 5 6]]\n",
            "\n",
            "Percentiles (Flattened Array):\n",
            "[-3.5 -0.5  2.5]\n",
            "\n",
            "Percentiles (By Column):\n",
            "[[-2.75 -0.25 -3.75]\n",
            " [-1.5   1.5  -1.5 ]\n",
            " [-0.25  3.25  0.75]]\n",
            "\n",
            "Percentiles (By Row):\n",
            "[[-0.5 -5. ]\n",
            " [ 1.  -4. ]\n",
            " [ 2.   0.5]]\n",
            "\n",
            "Mean, Median, and Standard Deviation (Flattened Array):\n",
            "Mean: -0.5, Median: -0.5, Std: 3.8622100754188224\n",
            "\n",
            "Mean, Median, and Standard Deviation (By Column):\n",
            "Mean: [-1.5  1.5 -1.5], Median: [-1.5  1.5 -1.5], Std: [2.5 3.5 4.5]\n",
            "\n",
            "Mean, Median, and Standard Deviation (By Row):\n",
            "Mean: [ 0.66666667 -1.66666667], Median: [ 1. -4.], Std: [2.05480467 4.78423336]\n"
          ]
        }
      ]
    },
    {
      "cell_type": "code",
      "source": [
        "#b\n",
        "a = np.array([-1.8, -1.6, -0.5, 0.5, 1.6, 1.8, 3.0])\n",
        "\n",
        "# 1. Floor values\n",
        "floor_values = np.floor(a)\n",
        "\n",
        "# 2. Ceiling values\n",
        "ceiling_values = np.ceil(a)\n",
        "\n",
        "# 3. Truncated values\n",
        "truncated_values = np.trunc(a)\n",
        "\n",
        "# 4. Rounded values\n",
        "rounded_values = np.round(a)\n",
        "\n",
        "# Output the results\n",
        "print(\"Floor values:\", floor_values)\n",
        "print(\"Ceiling values:\", ceiling_values)\n",
        "print(\"Truncated values:\", truncated_values)\n",
        "print(\"Rounded values:\", rounded_values)"
      ],
      "metadata": {
        "colab": {
          "base_uri": "https://localhost:8080/"
        },
        "id": "g6MPcHAiovss",
        "outputId": "6840e43d-2ee8-4784-bc23-0814fa1d5b3f"
      },
      "execution_count": 3,
      "outputs": [
        {
          "output_type": "stream",
          "name": "stdout",
          "text": [
            "Floor values: [-2. -2. -1.  0.  1.  1.  3.]\n",
            "Ceiling values: [-1. -1. -0.  1.  2.  2.  3.]\n",
            "Truncated values: [-1. -1. -0.  0.  1.  1.  3.]\n",
            "Rounded values: [-2. -2. -0.  0.  2.  2.  3.]\n"
          ]
        }
      ]
    },
    {
      "cell_type": "markdown",
      "source": [
        "Q3-"
      ],
      "metadata": {
        "id": "GaOVsXLEpR0E"
      }
    },
    {
      "cell_type": "code",
      "source": [
        "#a\n",
        "array = np.array([10, 52, 62, 16, 16, 54, 453])\n",
        "\n",
        "# 1. Sorted array\n",
        "sorted_array = np.sort(array)\n",
        "\n",
        "# 2. Indices of sorted array\n",
        "indices_of_sorted_array = np.argsort(array)\n",
        "\n",
        "# 3. 4 smallest elements\n",
        "smallest_4_elements = sorted_array[:4]\n",
        "\n",
        "# 4. 5 largest elements\n",
        "largest_5_elements = sorted_array[-5:]\n",
        "\n",
        "# Output the results\n",
        "print(\"Sorted array:\", sorted_array)\n",
        "print(\"Indices of sorted array:\", indices_of_sorted_array)\n",
        "print(\"4 smallest elements:\", smallest_4_elements)\n",
        "print(\"5 largest elements:\", largest_5_elements)\n"
      ],
      "metadata": {
        "colab": {
          "base_uri": "https://localhost:8080/"
        },
        "id": "lwLtLqkKo-4L",
        "outputId": "70040114-1c5a-447b-aec4-fc843483119a"
      },
      "execution_count": 4,
      "outputs": [
        {
          "output_type": "stream",
          "name": "stdout",
          "text": [
            "Sorted array: [ 10  16  16  52  54  62 453]\n",
            "Indices of sorted array: [0 3 4 1 5 2 6]\n",
            "4 smallest elements: [10 16 16 52]\n",
            "5 largest elements: [ 16  52  54  62 453]\n"
          ]
        }
      ]
    },
    {
      "cell_type": "code",
      "source": [
        "#b\n",
        "array = np.array([1.0, 1.2, 2.2, 2.0, 3.0, 2.0])\n",
        "\n",
        "# 1. Integer elements only\n",
        "integer_elements = array[array == array.astype(int)]\n",
        "\n",
        "# 2. Float elements only\n",
        "float_elements = array[array != array.astype(int)]\n",
        "\n",
        "# Output the results\n",
        "print(\"Integer elements:\", integer_elements)\n",
        "print(\"Float elements:\", float_elements)"
      ],
      "metadata": {
        "colab": {
          "base_uri": "https://localhost:8080/"
        },
        "id": "snz1vTKdpUcz",
        "outputId": "e5624c60-4aff-4a1e-d0a2-2fe1cf215150"
      },
      "execution_count": 5,
      "outputs": [
        {
          "output_type": "stream",
          "name": "stdout",
          "text": [
            "Integer elements: [1. 2. 3. 2.]\n",
            "Float elements: [1.2 2.2]\n"
          ]
        }
      ]
    },
    {
      "cell_type": "markdown",
      "source": [
        "Q4-"
      ],
      "metadata": {
        "id": "0nEsssdep3si"
      }
    },
    {
      "cell_type": "code",
      "source": [],
      "metadata": {
        "id": "qZmZ3T2opepk"
      },
      "execution_count": null,
      "outputs": []
    }
  ]
}